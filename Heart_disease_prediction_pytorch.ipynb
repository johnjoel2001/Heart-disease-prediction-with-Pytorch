{
  "nbformat": 4,
  "nbformat_minor": 0,
  "metadata": {
    "colab": {
      "name": "Heart_disease_prediction_pytorch.ipynb",
      "provenance": [],
      "collapsed_sections": [],
      "authorship_tag": "ABX9TyP4Cnw4/SlEEDIYUilUaOiJ",
      "include_colab_link": true
    },
    "kernelspec": {
      "name": "python3",
      "display_name": "Python 3"
    },
    "language_info": {
      "name": "python"
    }
  },
  "cells": [
    {
      "cell_type": "markdown",
      "metadata": {
        "id": "view-in-github",
        "colab_type": "text"
      },
      "source": [
        "<a href=\"https://colab.research.google.com/github/johnjoel2001/Heart-disease-prediction-with-Pytorch/blob/main/Heart_disease_prediction_pytorch.ipynb\" target=\"_parent\"><img src=\"https://colab.research.google.com/assets/colab-badge.svg\" alt=\"Open In Colab\"/></a>"
      ]
    },
    {
      "cell_type": "code",
      "metadata": {
        "id": "6t1ikT6WT3HV"
      },
      "source": [
        "import pandas as pd\n",
        "import numpy as np\n",
        "import seaborn as sns\n",
        "import torch\n",
        "import torch.nn as nn\n",
        "import torch.nn.functional as f\n",
        "import matplotlib.pyplot as plt\n",
        "%matplotlib inline"
      ],
      "execution_count": null,
      "outputs": []
    },
    {
      "cell_type": "code",
      "metadata": {
        "colab": {
          "base_uri": "https://localhost:8080/",
          "height": 204
        },
        "id": "MmiVSDxeUmQT",
        "outputId": "3ad2cfc8-d01d-4828-c420-4e08b85ecc79"
      },
      "source": [
        "df=pd.read_csv('heart-uci.csv')\n",
        "df.head()"
      ],
      "execution_count": null,
      "outputs": [
        {
          "output_type": "execute_result",
          "data": {
            "text/html": [
              "<div>\n",
              "<style scoped>\n",
              "    .dataframe tbody tr th:only-of-type {\n",
              "        vertical-align: middle;\n",
              "    }\n",
              "\n",
              "    .dataframe tbody tr th {\n",
              "        vertical-align: top;\n",
              "    }\n",
              "\n",
              "    .dataframe thead th {\n",
              "        text-align: right;\n",
              "    }\n",
              "</style>\n",
              "<table border=\"1\" class=\"dataframe\">\n",
              "  <thead>\n",
              "    <tr style=\"text-align: right;\">\n",
              "      <th></th>\n",
              "      <th>age</th>\n",
              "      <th>sex</th>\n",
              "      <th>cp</th>\n",
              "      <th>trestbps</th>\n",
              "      <th>chol</th>\n",
              "      <th>fbs</th>\n",
              "      <th>restecg</th>\n",
              "      <th>thalach</th>\n",
              "      <th>exang</th>\n",
              "      <th>oldpeak</th>\n",
              "      <th>slope</th>\n",
              "      <th>ca</th>\n",
              "      <th>thal</th>\n",
              "      <th>target</th>\n",
              "    </tr>\n",
              "  </thead>\n",
              "  <tbody>\n",
              "    <tr>\n",
              "      <th>0</th>\n",
              "      <td>63</td>\n",
              "      <td>1</td>\n",
              "      <td>3</td>\n",
              "      <td>145</td>\n",
              "      <td>233</td>\n",
              "      <td>1</td>\n",
              "      <td>0</td>\n",
              "      <td>150</td>\n",
              "      <td>0</td>\n",
              "      <td>2.3</td>\n",
              "      <td>0</td>\n",
              "      <td>0</td>\n",
              "      <td>1</td>\n",
              "      <td>1</td>\n",
              "    </tr>\n",
              "    <tr>\n",
              "      <th>1</th>\n",
              "      <td>37</td>\n",
              "      <td>1</td>\n",
              "      <td>2</td>\n",
              "      <td>130</td>\n",
              "      <td>250</td>\n",
              "      <td>0</td>\n",
              "      <td>1</td>\n",
              "      <td>187</td>\n",
              "      <td>0</td>\n",
              "      <td>3.5</td>\n",
              "      <td>0</td>\n",
              "      <td>0</td>\n",
              "      <td>2</td>\n",
              "      <td>1</td>\n",
              "    </tr>\n",
              "    <tr>\n",
              "      <th>2</th>\n",
              "      <td>41</td>\n",
              "      <td>0</td>\n",
              "      <td>1</td>\n",
              "      <td>130</td>\n",
              "      <td>204</td>\n",
              "      <td>0</td>\n",
              "      <td>0</td>\n",
              "      <td>172</td>\n",
              "      <td>0</td>\n",
              "      <td>1.4</td>\n",
              "      <td>2</td>\n",
              "      <td>0</td>\n",
              "      <td>2</td>\n",
              "      <td>1</td>\n",
              "    </tr>\n",
              "    <tr>\n",
              "      <th>3</th>\n",
              "      <td>56</td>\n",
              "      <td>1</td>\n",
              "      <td>1</td>\n",
              "      <td>120</td>\n",
              "      <td>236</td>\n",
              "      <td>0</td>\n",
              "      <td>1</td>\n",
              "      <td>178</td>\n",
              "      <td>0</td>\n",
              "      <td>0.8</td>\n",
              "      <td>2</td>\n",
              "      <td>0</td>\n",
              "      <td>2</td>\n",
              "      <td>1</td>\n",
              "    </tr>\n",
              "    <tr>\n",
              "      <th>4</th>\n",
              "      <td>57</td>\n",
              "      <td>0</td>\n",
              "      <td>0</td>\n",
              "      <td>120</td>\n",
              "      <td>354</td>\n",
              "      <td>0</td>\n",
              "      <td>1</td>\n",
              "      <td>163</td>\n",
              "      <td>1</td>\n",
              "      <td>0.6</td>\n",
              "      <td>2</td>\n",
              "      <td>0</td>\n",
              "      <td>2</td>\n",
              "      <td>1</td>\n",
              "    </tr>\n",
              "  </tbody>\n",
              "</table>\n",
              "</div>"
            ],
            "text/plain": [
              "   age  sex  cp  trestbps  chol  fbs  ...  exang  oldpeak  slope  ca  thal  target\n",
              "0   63    1   3       145   233    1  ...      0      2.3      0   0     1       1\n",
              "1   37    1   2       130   250    0  ...      0      3.5      0   0     2       1\n",
              "2   41    0   1       130   204    0  ...      0      1.4      2   0     2       1\n",
              "3   56    1   1       120   236    0  ...      0      0.8      2   0     2       1\n",
              "4   57    0   0       120   354    0  ...      1      0.6      2   0     2       1\n",
              "\n",
              "[5 rows x 14 columns]"
            ]
          },
          "metadata": {},
          "execution_count": 3
        }
      ]
    },
    {
      "cell_type": "code",
      "metadata": {
        "colab": {
          "base_uri": "https://localhost:8080/"
        },
        "id": "-m25aRbYUrQh",
        "outputId": "d7b47514-f080-45d2-e047-f0b22ee209d9"
      },
      "source": [
        "df.isnull().sum()"
      ],
      "execution_count": null,
      "outputs": [
        {
          "output_type": "execute_result",
          "data": {
            "text/plain": [
              "age         0\n",
              "sex         0\n",
              "cp          0\n",
              "trestbps    0\n",
              "chol        0\n",
              "fbs         0\n",
              "restecg     0\n",
              "thalach     0\n",
              "exang       0\n",
              "oldpeak     0\n",
              "slope       0\n",
              "ca          0\n",
              "thal        0\n",
              "target      0\n",
              "dtype: int64"
            ]
          },
          "metadata": {},
          "execution_count": 5
        }
      ]
    },
    {
      "cell_type": "code",
      "metadata": {
        "colab": {
          "base_uri": "https://localhost:8080/"
        },
        "id": "pv3lcJXSUvCQ",
        "outputId": "49b5bf8a-f82d-483d-f53c-a20ea53ab6a7"
      },
      "source": [
        "X=df.drop('target',axis=1).values\n",
        "X"
      ],
      "execution_count": null,
      "outputs": [
        {
          "output_type": "execute_result",
          "data": {
            "text/plain": [
              "array([[63.,  1.,  3., ...,  0.,  0.,  1.],\n",
              "       [37.,  1.,  2., ...,  0.,  0.,  2.],\n",
              "       [41.,  0.,  1., ...,  2.,  0.,  2.],\n",
              "       ...,\n",
              "       [68.,  1.,  0., ...,  1.,  2.,  3.],\n",
              "       [57.,  1.,  0., ...,  1.,  1.,  3.],\n",
              "       [57.,  0.,  1., ...,  1.,  1.,  2.]])"
            ]
          },
          "metadata": {},
          "execution_count": 8
        }
      ]
    },
    {
      "cell_type": "code",
      "metadata": {
        "colab": {
          "base_uri": "https://localhost:8080/"
        },
        "id": "JV4smT_3UyxA",
        "outputId": "811a18db-3c7d-4b09-d4ad-14bd747b7a95"
      },
      "source": [
        "Y=df['target'].values\n",
        "Y"
      ],
      "execution_count": null,
      "outputs": [
        {
          "output_type": "execute_result",
          "data": {
            "text/plain": [
              "array([1, 1, 1, 1, 1, 1, 1, 1, 1, 1, 1, 1, 1, 1, 1, 1, 1, 1, 1, 1, 1, 1,\n",
              "       1, 1, 1, 1, 1, 1, 1, 1, 1, 1, 1, 1, 1, 1, 1, 1, 1, 1, 1, 1, 1, 1,\n",
              "       1, 1, 1, 1, 1, 1, 1, 1, 1, 1, 1, 1, 1, 1, 1, 1, 1, 1, 1, 1, 1, 1,\n",
              "       1, 1, 1, 1, 1, 1, 1, 1, 1, 1, 1, 1, 1, 1, 1, 1, 1, 1, 1, 1, 1, 1,\n",
              "       1, 1, 1, 1, 1, 1, 1, 1, 1, 1, 1, 1, 1, 1, 1, 1, 1, 1, 1, 1, 1, 1,\n",
              "       1, 1, 1, 1, 1, 1, 1, 1, 1, 1, 1, 1, 1, 1, 1, 1, 1, 1, 1, 1, 1, 1,\n",
              "       1, 1, 1, 1, 1, 1, 1, 1, 1, 1, 1, 1, 1, 1, 1, 1, 1, 1, 1, 1, 1, 1,\n",
              "       1, 1, 1, 1, 1, 1, 1, 1, 1, 1, 1, 0, 0, 0, 0, 0, 0, 0, 0, 0, 0, 0,\n",
              "       0, 0, 0, 0, 0, 0, 0, 0, 0, 0, 0, 0, 0, 0, 0, 0, 0, 0, 0, 0, 0, 0,\n",
              "       0, 0, 0, 0, 0, 0, 0, 0, 0, 0, 0, 0, 0, 0, 0, 0, 0, 0, 0, 0, 0, 0,\n",
              "       0, 0, 0, 0, 0, 0, 0, 0, 0, 0, 0, 0, 0, 0, 0, 0, 0, 0, 0, 0, 0, 0,\n",
              "       0, 0, 0, 0, 0, 0, 0, 0, 0, 0, 0, 0, 0, 0, 0, 0, 0, 0, 0, 0, 0, 0,\n",
              "       0, 0, 0, 0, 0, 0, 0, 0, 0, 0, 0, 0, 0, 0, 0, 0, 0, 0, 0, 0, 0, 0,\n",
              "       0, 0, 0, 0, 0, 0, 0, 0, 0, 0, 0, 0, 0, 0, 0, 0, 0])"
            ]
          },
          "metadata": {},
          "execution_count": 10
        }
      ]
    },
    {
      "cell_type": "code",
      "metadata": {
        "id": "kQgKuvvZU5vg"
      },
      "source": [
        "from sklearn.model_selection import train_test_split\n",
        "X_train,X_test,Y_train,Y_test=train_test_split(X,Y,test_size=0.2,random_state=0)"
      ],
      "execution_count": null,
      "outputs": []
    },
    {
      "cell_type": "code",
      "metadata": {
        "id": "OQ2fh6X1VWyB"
      },
      "source": [
        "X_train=torch.FloatTensor(X_train)\n",
        "Y_train=torch.LongTensor(Y_train)\n",
        "X_test=torch.FloatTensor(X_test)\n",
        "Y_test=torch.LongTensor(Y_test)"
      ],
      "execution_count": null,
      "outputs": []
    },
    {
      "cell_type": "code",
      "metadata": {
        "colab": {
          "base_uri": "https://localhost:8080/"
        },
        "id": "LegN-_O9VoDQ",
        "outputId": "2754814f-145e-4336-e19a-4781cb836460"
      },
      "source": [
        "df.shape"
      ],
      "execution_count": null,
      "outputs": [
        {
          "output_type": "execute_result",
          "data": {
            "text/plain": [
              "(303, 14)"
            ]
          },
          "metadata": {},
          "execution_count": 14
        }
      ]
    },
    {
      "cell_type": "code",
      "metadata": {
        "id": "IpLmvwhjVt0K"
      },
      "source": [
        "class ANN(nn.Module):\n",
        "  def __init__(self,input_features=13,hidden1=20,hidden2=20,output_features=2):\n",
        "    super().__init__()\n",
        "    self.connected_1=nn.Linear(input_features,hidden1)\n",
        "    self.connected_2=nn.Linear(hidden1,hidden2)\n",
        "    self.out=nn.Linear(hidden2,output_features)\n",
        "  def forward(self,x):\n",
        "    x=f.relu(self.connected_1(x))\n",
        "    x=f.relu(self.connected_2(x))\n",
        "    x=self.out(x)\n",
        "    return x"
      ],
      "execution_count": null,
      "outputs": []
    },
    {
      "cell_type": "code",
      "metadata": {
        "id": "NICu_IwxW8A6"
      },
      "source": [
        "torch.manual_seed(10)\n",
        "model=ANN()"
      ],
      "execution_count": null,
      "outputs": []
    },
    {
      "cell_type": "code",
      "metadata": {
        "colab": {
          "base_uri": "https://localhost:8080/"
        },
        "id": "3MCDOYa8XZRB",
        "outputId": "7b71a920-aa3e-4610-a918-3d2a05e772c5"
      },
      "source": [
        "model.parameters"
      ],
      "execution_count": null,
      "outputs": [
        {
          "output_type": "execute_result",
          "data": {
            "text/plain": [
              "<bound method Module.parameters of ANN(\n",
              "  (connected_1): Linear(in_features=13, out_features=20, bias=True)\n",
              "  (connected_2): Linear(in_features=20, out_features=20, bias=True)\n",
              "  (out): Linear(in_features=20, out_features=2, bias=True)\n",
              ")>"
            ]
          },
          "metadata": {},
          "execution_count": 18
        }
      ]
    },
    {
      "cell_type": "code",
      "metadata": {
        "id": "S115q2mAXDQ5"
      },
      "source": [
        "loss_function=nn.CrossEntropyLoss()\n",
        "optimizer=torch.optim.Adam(model.parameters(),lr=0.01)"
      ],
      "execution_count": null,
      "outputs": []
    },
    {
      "cell_type": "code",
      "metadata": {
        "colab": {
          "base_uri": "https://localhost:8080/"
        },
        "id": "Nxe0jdnTXcbZ",
        "outputId": "576ee09a-34e1-496e-b7b5-62786b6bf418"
      },
      "source": [
        "epochs=1000\n",
        "losses=[]\n",
        "for i in range(epochs):\n",
        "  i=i+1\n",
        "  Ypred=model.forward(X_train)\n",
        "  loss=loss_function(Ypred,Y_train)\n",
        "  losses.append(loss)\n",
        "  if i%10==1:\n",
        "    print('Epoch number:{} and loss:{}'.format(i,loss))\n",
        "  optimizer.zero_grad()\n",
        "  loss.backward()\n",
        "  optimizer.step()"
      ],
      "execution_count": null,
      "outputs": [
        {
          "output_type": "stream",
          "name": "stdout",
          "text": [
            "Epoch number:1 and loss:0.24842894077301025\n",
            "Epoch number:11 and loss:0.25335171818733215\n",
            "Epoch number:21 and loss:0.2275337129831314\n",
            "Epoch number:31 and loss:0.22414931654930115\n",
            "Epoch number:41 and loss:0.2378043532371521\n",
            "Epoch number:51 and loss:0.23589129745960236\n",
            "Epoch number:61 and loss:0.22035445272922516\n",
            "Epoch number:71 and loss:0.2410432994365692\n",
            "Epoch number:81 and loss:0.23090146481990814\n",
            "Epoch number:91 and loss:0.21507300436496735\n",
            "Epoch number:101 and loss:0.26477357745170593\n",
            "Epoch number:111 and loss:0.2608896791934967\n",
            "Epoch number:121 and loss:0.23606926202774048\n",
            "Epoch number:131 and loss:0.23459617793560028\n",
            "Epoch number:141 and loss:0.2254595011472702\n",
            "Epoch number:151 and loss:0.21497976779937744\n",
            "Epoch number:161 and loss:0.20962785184383392\n",
            "Epoch number:171 and loss:0.2054622769355774\n",
            "Epoch number:181 and loss:0.20103202760219574\n",
            "Epoch number:191 and loss:0.2013302743434906\n",
            "Epoch number:201 and loss:0.19729575514793396\n",
            "Epoch number:211 and loss:0.20079810917377472\n",
            "Epoch number:221 and loss:0.1937645822763443\n",
            "Epoch number:231 and loss:0.191724494099617\n",
            "Epoch number:241 and loss:0.21283334493637085\n",
            "Epoch number:251 and loss:0.25973135232925415\n",
            "Epoch number:261 and loss:0.25421831011772156\n",
            "Epoch number:271 and loss:0.23754040896892548\n",
            "Epoch number:281 and loss:0.20413900911808014\n",
            "Epoch number:291 and loss:0.19839902222156525\n",
            "Epoch number:301 and loss:0.19974125921726227\n",
            "Epoch number:311 and loss:0.19386324286460876\n",
            "Epoch number:321 and loss:0.19371503591537476\n",
            "Epoch number:331 and loss:0.18968893587589264\n",
            "Epoch number:341 and loss:0.20110726356506348\n",
            "Epoch number:351 and loss:0.1919230967760086\n",
            "Epoch number:361 and loss:0.18338505923748016\n",
            "Epoch number:371 and loss:0.18943138420581818\n",
            "Epoch number:381 and loss:0.1993585079908371\n",
            "Epoch number:391 and loss:0.19967928528785706\n",
            "Epoch number:401 and loss:0.17817836999893188\n",
            "Epoch number:411 and loss:0.1936420053243637\n",
            "Epoch number:421 and loss:0.17249272763729095\n",
            "Epoch number:431 and loss:0.19694243371486664\n",
            "Epoch number:441 and loss:0.17528609931468964\n",
            "Epoch number:451 and loss:0.16752713918685913\n",
            "Epoch number:461 and loss:0.16625453531742096\n",
            "Epoch number:471 and loss:0.16516901552677155\n",
            "Epoch number:481 and loss:0.43869540095329285\n",
            "Epoch number:491 and loss:0.24805106222629547\n",
            "Epoch number:501 and loss:0.19268274307250977\n",
            "Epoch number:511 and loss:0.18235936760902405\n",
            "Epoch number:521 and loss:0.1694389432668686\n",
            "Epoch number:531 and loss:0.16256599128246307\n",
            "Epoch number:541 and loss:0.16014063358306885\n",
            "Epoch number:551 and loss:0.15766295790672302\n",
            "Epoch number:561 and loss:0.15533514320850372\n",
            "Epoch number:571 and loss:0.15315642952919006\n",
            "Epoch number:581 and loss:0.15152280032634735\n",
            "Epoch number:591 and loss:0.14965349435806274\n",
            "Epoch number:601 and loss:0.14811281859874725\n",
            "Epoch number:611 and loss:0.1457546353340149\n",
            "Epoch number:621 and loss:0.1434045284986496\n",
            "Epoch number:631 and loss:0.1420658975839615\n",
            "Epoch number:641 and loss:0.1406896561384201\n",
            "Epoch number:651 and loss:0.13804839551448822\n",
            "Epoch number:661 and loss:0.13674508035182953\n",
            "Epoch number:671 and loss:0.13475880026817322\n",
            "Epoch number:681 and loss:0.13280698657035828\n",
            "Epoch number:691 and loss:0.13114841282367706\n",
            "Epoch number:701 and loss:0.12970522046089172\n",
            "Epoch number:711 and loss:0.12735413014888763\n",
            "Epoch number:721 and loss:0.12689509987831116\n",
            "Epoch number:731 and loss:0.12454178184270859\n",
            "Epoch number:741 and loss:0.12351970374584198\n",
            "Epoch number:751 and loss:0.12418479472398758\n",
            "Epoch number:761 and loss:0.12260018289089203\n",
            "Epoch number:771 and loss:0.12213592231273651\n",
            "Epoch number:781 and loss:0.11638395488262177\n",
            "Epoch number:791 and loss:0.11525002866983414\n",
            "Epoch number:801 and loss:0.6278842687606812\n",
            "Epoch number:811 and loss:0.9523332118988037\n",
            "Epoch number:821 and loss:0.524243175983429\n",
            "Epoch number:831 and loss:0.3484153747558594\n",
            "Epoch number:841 and loss:0.31248241662979126\n",
            "Epoch number:851 and loss:0.28834307193756104\n",
            "Epoch number:861 and loss:0.27592524886131287\n",
            "Epoch number:871 and loss:0.26920875906944275\n",
            "Epoch number:881 and loss:0.2640792429447174\n",
            "Epoch number:891 and loss:0.259150892496109\n",
            "Epoch number:901 and loss:0.2504798173904419\n",
            "Epoch number:911 and loss:0.23760932683944702\n",
            "Epoch number:921 and loss:0.23065166175365448\n",
            "Epoch number:931 and loss:0.22557635605335236\n",
            "Epoch number:941 and loss:0.22133617103099823\n",
            "Epoch number:951 and loss:0.21796542406082153\n",
            "Epoch number:961 and loss:0.21507830917835236\n",
            "Epoch number:971 and loss:0.21149154007434845\n",
            "Epoch number:981 and loss:0.20859842002391815\n",
            "Epoch number:991 and loss:0.20696932077407837\n"
          ]
        }
      ]
    },
    {
      "cell_type": "code",
      "metadata": {
        "colab": {
          "base_uri": "https://localhost:8080/",
          "height": 296
        },
        "id": "pEK-OdyjYbBy",
        "outputId": "6d25b038-4e26-4064-9ef5-fae811b29208"
      },
      "source": [
        "plt.plot(range(epochs),losses)\n",
        "plt.xlabel('Epochs')\n",
        "plt.ylabel('Loss')"
      ],
      "execution_count": null,
      "outputs": [
        {
          "output_type": "execute_result",
          "data": {
            "text/plain": [
              "Text(0, 0.5, 'Loss')"
            ]
          },
          "metadata": {},
          "execution_count": 29
        },
        {
          "output_type": "display_data",
          "data": {
            "image/png": "[encoded data removed]",
            "text/plain": [
              "<Figure size 432x288 with 1 Axes>"
            ]
          },
          "metadata": {
            "needs_background": "light"
          }
        }
      ]
    },
    {
      "cell_type": "code",
      "metadata": {
        "id": "E_grpDKGYvXA"
      },
      "source": [
        "#Predictions in X_test data\n",
        "predictions=[]\n",
        "with torch.no_grad():\n",
        "  for i,data in enumerate(X_test):\n",
        "    Ypred=model(data)\n",
        "    predictions.append(Ypred.argmax().item())"
      ],
      "execution_count": null,
      "outputs": []
    },
    {
      "cell_type": "code",
      "metadata": {
        "colab": {
          "base_uri": "https://localhost:8080/"
        },
        "id": "5DvBkCyNZWKh",
        "outputId": "6f2f4136-a453-4b64-cc81-b5c25679474e"
      },
      "source": [
        "predictions"
      ],
      "execution_count": null,
      "outputs": [
        {
          "output_type": "execute_result",
          "data": {
            "text/plain": [
              "[0,\n",
              " 1,\n",
              " 1,\n",
              " 0,\n",
              " 0,\n",
              " 1,\n",
              " 0,\n",
              " 0,\n",
              " 0,\n",
              " 0,\n",
              " 1,\n",
              " 1,\n",
              " 0,\n",
              " 1,\n",
              " 1,\n",
              " 1,\n",
              " 0,\n",
              " 1,\n",
              " 0,\n",
              " 1,\n",
              " 1,\n",
              " 0,\n",
              " 0,\n",
              " 0,\n",
              " 1,\n",
              " 0,\n",
              " 0,\n",
              " 0,\n",
              " 1,\n",
              " 1,\n",
              " 1,\n",
              " 0,\n",
              " 1,\n",
              " 0,\n",
              " 1,\n",
              " 1,\n",
              " 0,\n",
              " 1,\n",
              " 0,\n",
              " 0,\n",
              " 1,\n",
              " 0,\n",
              " 0,\n",
              " 0,\n",
              " 0,\n",
              " 1,\n",
              " 1,\n",
              " 1,\n",
              " 0,\n",
              " 1,\n",
              " 1,\n",
              " 1,\n",
              " 1,\n",
              " 1,\n",
              " 1,\n",
              " 0,\n",
              " 1,\n",
              " 1,\n",
              " 1,\n",
              " 1,\n",
              " 1]"
            ]
          },
          "metadata": {},
          "execution_count": 40
        }
      ]
    },
    {
      "cell_type": "code",
      "metadata": {
        "colab": {
          "base_uri": "https://localhost:8080/",
          "height": 282
        },
        "id": "cabhZvSyZXEL",
        "outputId": "ecee0787-f31a-4336-fbbc-b381790e31c2"
      },
      "source": [
        "from sklearn.metrics import confusion_matrix,accuracy_score\n",
        "cm=confusion_matrix(Y_test,predictions)\n",
        "sns.heatmap(cm,annot=True)"
      ],
      "execution_count": null,
      "outputs": [
        {
          "output_type": "execute_result",
          "data": {
            "text/plain": [
              "<matplotlib.axes._subplots.AxesSubplot at 0x7f1568fbdfd0>"
            ]
          },
          "metadata": {},
          "execution_count": 44
        },
        {
          "output_type": "display_data",
          "data": {
            "image/png": "[encoded data removed]",
            "text/plain": [
              "<Figure size 432x288 with 2 Axes>"
            ]
          },
          "metadata": {
            "needs_background": "light"
          }
        }
      ]
    },
    {
      "cell_type": "code",
      "metadata": {
        "colab": {
          "base_uri": "https://localhost:8080/"
        },
        "id": "qd85ytiEaROy",
        "outputId": "c68f0b8a-d34c-46da-b5ae-f5fba43cb5e8"
      },
      "source": [
        "print(accuracy_score(Y_test,predictions))"
      ],
      "execution_count": null,
      "outputs": [
        {
          "output_type": "stream",
          "name": "stdout",
          "text": [
            "0.8032786885245902\n"
          ]
        }
      ]
    },
    {
      "cell_type": "code",
      "metadata": {
        "colab": {
          "base_uri": "https://localhost:8080/"
        },
        "id": "P-eKFYA0aYFR",
        "outputId": "3c1cae63-c365-4167-de0d-75f0e80a572c"
      },
      "source": [
        "list(df.iloc[0,:-1]) # Selecting a row"
      ],
      "execution_count": null,
      "outputs": [
        {
          "output_type": "execute_result",
          "data": {
            "text/plain": [
              "[63.0, 1.0, 3.0, 145.0, 233.0, 1.0, 0.0, 150.0, 0.0, 2.3, 0.0, 0.0, 1.0]"
            ]
          },
          "metadata": {},
          "execution_count": 46
        }
      ]
    },
    {
      "cell_type": "code",
      "metadata": {
        "id": "Jof8rACaafoy"
      },
      "source": [
        "list1=[63.0, 1.0, 3.0, 145.0, 233.0, 1.0, 0.0, 150.0, 0.0, 2.3, 0.0, 0.0, 1.0]"
      ],
      "execution_count": null,
      "outputs": []
    },
    {
      "cell_type": "code",
      "metadata": {
        "id": "maASUPnOaiJq"
      },
      "source": [
        "list1=torch.Tensor(list1)"
      ],
      "execution_count": null,
      "outputs": []
    },
    {
      "cell_type": "code",
      "metadata": {
        "colab": {
          "base_uri": "https://localhost:8080/"
        },
        "id": "myaxj30CalbR",
        "outputId": "db563b14-ba60-4f4d-f686-e00834c1700a"
      },
      "source": [
        "with torch.no_grad():\n",
        "  print(model(list1).argmax().item())"
      ],
      "execution_count": null,
      "outputs": [
        {
          "output_type": "stream",
          "name": "stdout",
          "text": [
            "1\n"
          ]
        }
      ]
    },
    {
      "cell_type": "markdown",
      "metadata": {
        "id": "mURIzVDQbGzK"
      },
      "source": [
        "**The person has heart disease**"
      ]
    }
  ]
}